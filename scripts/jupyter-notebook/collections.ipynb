{
 "cells": [
  {
   "cell_type": "code",
   "execution_count": null,
   "metadata": {},
   "outputs": [],
   "source": [
    "import requests\n",
    "import json"
   ]
  },
  {
   "cell_type": "markdown",
   "metadata": {},
   "source": [
    "## Configuration"
   ]
  },
  {
   "cell_type": "code",
   "execution_count": null,
   "metadata": {},
   "outputs": [],
   "source": [
    "base_headers = {'X-API-key': \"your own api keys\"}\n",
    "headers = {**base_headers, 'Content-type': 'application/json', \n",
    "           'accept': 'application/json'}\n",
    "clowder_base_uri = \"https://clowder.ncsa.illinois.edu/clowder/api\""
   ]
  },
  {
   "cell_type": "markdown",
   "metadata": {},
   "source": [
    "## collections - Collections are groupings of datasets"
   ]
  },
  {
   "cell_type": "markdown",
   "metadata": {},
   "source": [
    "### create collection"
   ]
  },
  {
   "cell_type": "code",
   "execution_count": null,
   "metadata": {},
   "outputs": [],
   "source": [
    "def create_collection(name, description='', space_id=''):\n",
    "    '''\n",
    "        param: name, description, spaces id \n",
    "        note: it's different from dataset, dataset can be added to multiple collections and spaces\n",
    "        here collection can only choose ONE space\n",
    "    '''\n",
    "\n",
    "    payload = json.dumps({'name': name,\n",
    "                          'description': description,\n",
    "                          'space': space_id\n",
    "                         })\n",
    "    r = requests.post(clowder_base_uri + '/collections',\n",
    "                     data=payload,\n",
    "                     headers=headers)\n",
    "    \n",
    "    if r.status_code == 200:\n",
    "        return r.json()\n",
    "    else:\n",
    "        return r.text"
   ]
  },
  {
   "cell_type": "code",
   "execution_count": null,
   "metadata": {},
   "outputs": [],
   "source": [
    "create_collection('new_collection', '...', '62211d4be4b01a9f2e1f5b95')"
   ]
  },
  {
   "cell_type": "markdown",
   "metadata": {},
   "source": [
    "### list collections"
   ]
  },
  {
   "cell_type": "code",
   "execution_count": null,
   "metadata": {},
   "outputs": [],
   "source": [
    "def list_collections():\n",
    "    r = requests.get(clowder_base_uri + '/collections/allCollections', headers=headers)\n",
    "    \n",
    "    if r.status_code == 200:\n",
    "        return r.json()\n",
    "    else:\n",
    "        return r.text"
   ]
  },
  {
   "cell_type": "code",
   "execution_count": null,
   "metadata": {},
   "outputs": [],
   "source": [
    "list_collections()"
   ]
  },
  {
   "cell_type": "markdown",
   "metadata": {},
   "source": [
    "### add dataset to collection"
   ]
  },
  {
   "cell_type": "code",
   "execution_count": null,
   "metadata": {},
   "outputs": [],
   "source": [
    "def add_dataset_to_collection(collection_id, dataset_id):\n",
    "    ''' parameters: collection id; dataset id\n",
    "    '''\n",
    "    empty_payload = json.dumps({})\n",
    "    r = requests.post(clowder_base_uri + '/collections/'\n",
    "                      + collection_id +'/datasets/' + dataset_id,\n",
    "                     data=empty_payload,\n",
    "                     headers=headers) \n",
    "    if r.status_code == 200:\n",
    "        return r.json()\n",
    "    else:\n",
    "        return r.text"
   ]
  },
  {
   "cell_type": "code",
   "execution_count": null,
   "metadata": {},
   "outputs": [],
   "source": [
    "add_dataset_to_collection(collection_id = '61b25639e4b01c5f10fa8146', dataset_id = '6220fc7fe4b01a9f2e1f59eb')"
   ]
  }
 ],
 "metadata": {
  "kernelspec": {
   "display_name": "Python 3",
   "language": "python",
   "name": "python3"
  },
  "language_info": {
   "codemirror_mode": {
    "name": "ipython",
    "version": 3
   },
   "file_extension": ".py",
   "mimetype": "text/x-python",
   "name": "python",
   "nbconvert_exporter": "python",
   "pygments_lexer": "ipython3",
   "version": "3.8.5"
  }
 },
 "nbformat": 4,
 "nbformat_minor": 2
}
