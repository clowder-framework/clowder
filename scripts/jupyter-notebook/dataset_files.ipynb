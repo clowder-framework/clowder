{
 "cells": [
  {
   "cell_type": "code",
   "execution_count": null,
   "metadata": {},
   "outputs": [],
   "source": [
    "import requests\n",
    "import json"
   ]
  },
  {
   "cell_type": "markdown",
   "metadata": {},
   "source": [
    "# Configuration\n",
    "Please replace the dataset id, file id, API keys and other user specific information to suit your own needs."
   ]
  },
  {
   "cell_type": "code",
   "execution_count": null,
   "metadata": {},
   "outputs": [],
   "source": [
    "base_headers = {'X-API-key': \"your own api keys\"}\n",
    "headers = {**base_headers, 'Content-type': 'application/json', \n",
    "           'accept': 'application/json'}"
   ]
  },
  {
   "cell_type": "code",
   "execution_count": null,
   "metadata": {},
   "outputs": [],
   "source": [
    "clowder_base_uri = \"https://clowder.ncsa.illinois.edu/clowder/api\""
   ]
  },
  {
   "cell_type": "markdown",
   "metadata": {},
   "source": [
    "# Dataset"
   ]
  },
  {
   "cell_type": "markdown",
   "metadata": {},
   "source": [
    "### list datasets"
   ]
  },
  {
   "cell_type": "code",
   "execution_count": null,
   "metadata": {},
   "outputs": [],
   "source": [
    "def list_datasets():\n",
    "    r = requests.get(clowder_base_uri + '/datasets', headers=headers)\n",
    "    if r.status_code == 200:\n",
    "        return r.json()\n",
    "    else:\n",
    "        return r.text"
   ]
  },
  {
   "cell_type": "code",
   "execution_count": null,
   "metadata": {
    "scrolled": false
   },
   "outputs": [],
   "source": [
    "list_datasets()"
   ]
  },
  {
   "cell_type": "markdown",
   "metadata": {},
   "source": [
    "### create dataset"
   ]
  },
  {
   "cell_type": "code",
   "execution_count": null,
   "metadata": {},
   "outputs": [],
   "source": [
    "def create_dataset(name, description, access, space=None, collection=None):\n",
    "    '''\n",
    "     params: name, description, access: PUBLIC vs PRIVATE, \n",
    "         space: a list of string can be empty,\n",
    "         collection: a list of string, can be empty\n",
    "    '''\n",
    "\n",
    "    payload = json.dumps({'name':name, \n",
    "                          'description':description,\n",
    "                          'access':access,\n",
    "                          'space':space,\n",
    "                          'collection':collection}) \n",
    "\n",
    "    r = requests.post(clowder_base_uri + '/datasets/createempty',\n",
    "                     data=payload,\n",
    "                     headers=headers)\n",
    "    if r.status_code == 200:\n",
    "        return r.json()\n",
    "    else:\n",
    "        return r.text"
   ]
  },
  {
   "cell_type": "code",
   "execution_count": null,
   "metadata": {},
   "outputs": [],
   "source": [
    "create_dataset(name=\"JP notebook\", description=\"test creating new dataset from JP notebook\", access=\"PRIVATE\")\n",
    "               #space=['5a7c84a04f0cb43c8e37e206','5a3bef1c4f0cc6f36475b122'],\n",
    "               #collection=['5a7c811b4f0cb43c8e37e1df'])"
   ]
  },
  {
   "cell_type": "markdown",
   "metadata": {},
   "source": [
    "### edit the description for the dataset"
   ]
  },
  {
   "cell_type": "code",
   "execution_count": null,
   "metadata": {},
   "outputs": [],
   "source": [
    "def edit_dataset_description(dataset_id, description):\n",
    "\n",
    "    payload = json.dumps({'description':description})\n",
    "    \n",
    "    r = requests.put(clowder_base_uri + '/datasets/' + dataset_id +'/description',\n",
    "                     data=payload,\n",
    "                     headers=headers)\n",
    "    if r.status_code == 200:\n",
    "        return r.json()\n",
    "    else:\n",
    "        return r.text"
   ]
  },
  {
   "cell_type": "code",
   "execution_count": null,
   "metadata": {},
   "outputs": [],
   "source": [
    "edit_dataset_description('6220ecb7e4b01a9f2e1f58b0', 'new description')"
   ]
  },
  {
   "cell_type": "markdown",
   "metadata": {},
   "source": [
    "### edit the dataset name"
   ]
  },
  {
   "cell_type": "code",
   "execution_count": null,
   "metadata": {},
   "outputs": [],
   "source": [
    "def edit_dataset_name(dataset_id, name):\n",
    "\n",
    "    payload = json.dumps({'name': name})\n",
    "    r = requests.put(clowder_base_uri + '/datasets/' + dataset_id +'/title',\n",
    "                     data=payload,\n",
    "                     headers=headers)\n",
    "    if r.status_code == 200:\n",
    "        return r.json()\n",
    "    else:\n",
    "        return r.text"
   ]
  },
  {
   "cell_type": "code",
   "execution_count": null,
   "metadata": {},
   "outputs": [],
   "source": [
    "edit_dataset_name('6220ecb7e4b01a9f2e1f58b0','new name')"
   ]
  },
  {
   "cell_type": "markdown",
   "metadata": {},
   "source": [
    "### add tags to the dataset"
   ]
  },
  {
   "cell_type": "code",
   "execution_count": null,
   "metadata": {},
   "outputs": [],
   "source": [
    "def add_tags_to_dataset(dataset_id, tags):\n",
    "    \n",
    "    payload = json.dumps({'tags':tags})\n",
    "    r = requests.post(clowder_base_uri + '/datasets/' + dataset_id +'/tags',\n",
    "                     data=payload,\n",
    "                     headers=headers)\n",
    "    if r.status_code == 200:\n",
    "        return r.json()\n",
    "    else:\n",
    "        return r.text"
   ]
  },
  {
   "cell_type": "code",
   "execution_count": null,
   "metadata": {},
   "outputs": [],
   "source": [
    "add_tags_to_dataset('6220ecb7e4b01a9f2e1f58b0',['tag1','tag2','tag3'])"
   ]
  },
  {
   "cell_type": "markdown",
   "metadata": {},
   "source": [
    "### list tags of a dataset"
   ]
  },
  {
   "cell_type": "code",
   "execution_count": null,
   "metadata": {},
   "outputs": [],
   "source": [
    "def list_tags_of_dataset(dataset_id):\n",
    "    \n",
    "    r = requests.get(clowder_base_uri + '/datasets/' + dataset_id +'/tags', headers=headers)\n",
    "    if r.status_code == 200:\n",
    "        return r.json()\n",
    "    else:\n",
    "        return r.text"
   ]
  },
  {
   "cell_type": "code",
   "execution_count": null,
   "metadata": {},
   "outputs": [],
   "source": [
    "list_tags_of_dataset(\"6220ecb7e4b01a9f2e1f58b0\")"
   ]
  },
  {
   "cell_type": "markdown",
   "metadata": {},
   "source": [
    "### add USER metadata to dataset"
   ]
  },
  {
   "cell_type": "code",
   "execution_count": null,
   "metadata": {},
   "outputs": [],
   "source": [
    "def add_user_metadata_to_dataset(dataset_id, metadata):\n",
    "    '''\n",
    "        metadata can be any key-value pair\n",
    "        default metadat: Audience, CSDMS Standard Name, Date and Time, Funding Institution, \n",
    "            GeoJSON, Grant Number, ODM2 Variable Name, Primary/Initial Publication, Principal Investigator(s),\n",
    "            References, Related Publications, SAS Spatial Geocode, SAS Variable Name, Time Periods, Unit\n",
    "    '''\n",
    "    \n",
    "    payload = json.dumps(metadata)\n",
    "    r = requests.post(clowder_base_uri + '/datasets/' + dataset_id +'/usermetadata',\n",
    "                     data=payload,\n",
    "                     headers=headers)\n",
    "    if r.status_code == 200:\n",
    "        return r.json()\n",
    "    else:\n",
    "        return r.text"
   ]
  },
  {
   "cell_type": "code",
   "execution_count": null,
   "metadata": {},
   "outputs": [],
   "source": [
    "add_user_metadata_to_dataset('6220ecb7e4b01a9f2e1f58b0', {'time':'now','author':'chen','email':'cwang138@illinois.edu'})"
   ]
  },
  {
   "cell_type": "markdown",
   "metadata": {},
   "source": [
    "### list USER metadata to dataset"
   ]
  },
  {
   "cell_type": "code",
   "execution_count": null,
   "metadata": {},
   "outputs": [],
   "source": [
    "def list_user_metadata_to_dataset(dataset_id):\n",
    "    r = requests.get(clowder_base_uri + '/datasets/' + dataset_id +'/metadata.jsonld',\n",
    "                     headers=headers)\n",
    "    if r.status_code == 200:\n",
    "        return r.json()\n",
    "    else:\n",
    "        return r.text"
   ]
  },
  {
   "cell_type": "code",
   "execution_count": null,
   "metadata": {},
   "outputs": [],
   "source": [
    "list_user_metadata_to_dataset('6220ecb7e4b01a9f2e1f58b0')"
   ]
  },
  {
   "cell_type": "markdown",
   "metadata": {},
   "source": [
    "### list extractor metadata of a dataset"
   ]
  },
  {
   "cell_type": "code",
   "execution_count": null,
   "metadata": {},
   "outputs": [],
   "source": [
    "def list_extractor_metadata_of_dataset(dataset_id):\n",
    "    r = requests.get(clowder_base_uri + '/datasets/' + dataset_id +'/metadata',\n",
    "                     headers=headers)\n",
    "    if r.status_code == 200:\n",
    "        return r.json()\n",
    "    else:\n",
    "        return r.text"
   ]
  },
  {
   "cell_type": "code",
   "execution_count": null,
   "metadata": {
    "scrolled": false
   },
   "outputs": [],
   "source": [
    "list_extractor_metadata_of_dataset('6220ecb7e4b01a9f2e1f58b0')"
   ]
  },
  {
   "cell_type": "markdown",
   "metadata": {},
   "source": [
    "### delete dataset (careful!)"
   ]
  },
  {
   "cell_type": "raw",
   "metadata": {},
   "source": [
    "def delete_dtaset(dataset_id):\n",
    "    r = requests.delete(clowder_base_uri + '/datasets/'+ dataset_id, headers=headers)\n",
    "    print(r.status_code)\n",
    "    print(r.text)"
   ]
  },
  {
   "cell_type": "raw",
   "metadata": {},
   "source": [
    "delete_dtaset('6220ecb7e4b01a9f2e1f58b0')"
   ]
  },
  {
   "cell_type": "markdown",
   "metadata": {},
   "source": [
    "# Files"
   ]
  },
  {
   "cell_type": "markdown",
   "metadata": {},
   "source": [
    "### upload files to dataset (through url)"
   ]
  },
  {
   "cell_type": "code",
   "execution_count": null,
   "metadata": {},
   "outputs": [],
   "source": [
    "def upload_files_url_to_dataset(dataset_id, url):\n",
    "    payload = json.dumps({'url':url})\n",
    "    r = requests.post(clowder_base_uri + '/datasets/' + dataset_id + '/urls',\n",
    "                     data=payload,\n",
    "                     headers=headers)\n",
    "    if r.status_code == 200:\n",
    "        return r.json()\n",
    "    else:\n",
    "        return r.text"
   ]
  },
  {
   "cell_type": "code",
   "execution_count": null,
   "metadata": {},
   "outputs": [],
   "source": [
    "upload_files_url_to_dataset(dataset_id = '6220ecb7e4b01a9f2e1f58b0',\n",
    "                        url = 'http://illinois.edu/assets/img/branding/wordmark_vertical.png')"
   ]
  },
  {
   "cell_type": "markdown",
   "metadata": {},
   "source": [
    "### upload local files to dataset"
   ]
  },
  {
   "cell_type": "code",
   "execution_count": null,
   "metadata": {},
   "outputs": [],
   "source": [
    "def upload_files_to_dataset(dataset_id, filenames):\n",
    "#     headers[\"Content-type\"] = 'multipart/form-data'\n",
    "    files = [('File', open(fname, 'rb')) for fname in filenames]\n",
    "    r = requests.post(clowder_base_uri + '/datasets/' + dataset_id + '/files',\n",
    "                      files=files, headers=base_headers)\n",
    "    if r.status_code == 200:\n",
    "        return r.json()\n",
    "    else:\n",
    "        return r.text"
   ]
  },
  {
   "cell_type": "code",
   "execution_count": null,
   "metadata": {},
   "outputs": [],
   "source": [
    "upload_files_to_dataset('6220ecb7e4b01a9f2e1f58b0', \n",
    "                        [\"/Users/cwang138/Documents/Clowder/Clowder Slides Template.pptx\"])"
   ]
  },
  {
   "cell_type": "markdown",
   "metadata": {},
   "source": [
    "### list files belong to a dataset"
   ]
  },
  {
   "cell_type": "code",
   "execution_count": null,
   "metadata": {},
   "outputs": [],
   "source": [
    "def list_files_of_dataset(dataset_id):\n",
    "    r = requests.get(clowder_base_uri + '/datasets/' + dataset_id + '/files',\n",
    "                     headers=headers)\n",
    "    if r.status_code == 200:\n",
    "        return r.json()\n",
    "    else:\n",
    "        return r.text"
   ]
  },
  {
   "cell_type": "code",
   "execution_count": null,
   "metadata": {},
   "outputs": [],
   "source": [
    "list_files_of_dataset('6220ecb7e4b01a9f2e1f58b0')"
   ]
  },
  {
   "cell_type": "markdown",
   "metadata": {},
   "source": [
    "### add tag to a file "
   ]
  },
  {
   "cell_type": "code",
   "execution_count": null,
   "metadata": {},
   "outputs": [],
   "source": [
    "def add_tags_to_file(file_id, tags):\n",
    "    '''\n",
    "    tags has to be a list\n",
    "    '''\n",
    "   \n",
    "    payload = json.dumps({'tags':tags})\n",
    "    r = requests.post(clowder_base_uri + '/files/' + file_id +'/tags',\n",
    "                     data=payload,\n",
    "                     headers=headers)\n",
    "    if r.status_code == 200:\n",
    "        return r.json()\n",
    "    else:\n",
    "        return r.text"
   ]
  },
  {
   "cell_type": "code",
   "execution_count": null,
   "metadata": {},
   "outputs": [],
   "source": [
    "add_tags_to_file('6220ef39e4b01a9f2e1f58dc',['tag1','tag2','tag3'])"
   ]
  },
  {
   "cell_type": "markdown",
   "metadata": {},
   "source": [
    "### list tags of a file"
   ]
  },
  {
   "cell_type": "code",
   "execution_count": null,
   "metadata": {},
   "outputs": [],
   "source": [
    "def list_tags_of_file(file_id):\n",
    "    r = requests.get(clowder_base_uri + '/files/' + file_id +'/tags', headers=headers)\n",
    "    if r.status_code == 200:\n",
    "        return r.json()\n",
    "    else:\n",
    "        return r.text"
   ]
  },
  {
   "cell_type": "code",
   "execution_count": null,
   "metadata": {},
   "outputs": [],
   "source": [
    "list_tags_of_file('6220ef39e4b01a9f2e1f58dc')"
   ]
  },
  {
   "cell_type": "markdown",
   "metadata": {},
   "source": [
    "### add description to a file"
   ]
  },
  {
   "cell_type": "code",
   "execution_count": null,
   "metadata": {},
   "outputs": [],
   "source": [
    "def add_description_to_file(file_id, description):\n",
    "\n",
    "    payload = json.dumps({'description':description})\n",
    "    r = requests.put(clowder_base_uri + '/files/' + file_id +'/updateDescription',\n",
    "                     data=payload,\n",
    "                     headers=headers)\n",
    "    if r.status_code == 200:\n",
    "        return r.json()\n",
    "    else:\n",
    "        return r.text"
   ]
  },
  {
   "cell_type": "code",
   "execution_count": null,
   "metadata": {},
   "outputs": [],
   "source": [
    "add_description_to_file('6220ef39e4b01a9f2e1f58dc','lalala')"
   ]
  },
  {
   "cell_type": "markdown",
   "metadata": {},
   "source": [
    "### add USER metadata to a file"
   ]
  },
  {
   "cell_type": "code",
   "execution_count": null,
   "metadata": {},
   "outputs": [],
   "source": [
    "def add_user_metadata_to_file(file_id, metadata):\n",
    "    '''\n",
    "     metadata can be any key-value pair.\n",
    "     a few fields that defaulted by clowder: Audience, CSDMS Standard Name, Date and Time, Funding Institution, \n",
    "        GeoJSON, Grant Number, ODM2 Variable Name, Primary/Initial Publication, Principal Investigator(s),\n",
    "        References, Related Publications, SAS Spatial Geocode, SAS Variable Name, Time Periods, Unit\n",
    "    '''\n",
    "    \n",
    "    payload = json.dumps(metadata)\n",
    "    r = requests.post(clowder_base_uri + '/files/' + file_id +'/usermetadata',\n",
    "                     data=payload,\n",
    "                     headers=headers)\n",
    "    if r.status_code == 200:\n",
    "        return r.json()\n",
    "    else:\n",
    "        return r.text"
   ]
  },
  {
   "cell_type": "code",
   "execution_count": null,
   "metadata": {},
   "outputs": [],
   "source": [
    "add_user_metadata_to_file('6220ef39e4b01a9f2e1f58dc', {'Audience':'chen wang','lalal':'lalalala'})"
   ]
  },
  {
   "cell_type": "markdown",
   "metadata": {},
   "source": [
    "### list ALL metadata of a file"
   ]
  },
  {
   "cell_type": "code",
   "execution_count": null,
   "metadata": {},
   "outputs": [],
   "source": [
    "def list_metadata_of_file(file_id):\n",
    "    r = requests.get(clowder_base_uri + '/files/' + file_id +'/metadata.jsonld',\n",
    "                     headers=headers)\n",
    "    if r.status_code == 200:\n",
    "        return r.json()\n",
    "    else:\n",
    "        return r.text"
   ]
  },
  {
   "cell_type": "code",
   "execution_count": null,
   "metadata": {},
   "outputs": [],
   "source": [
    "list_metadata_of_file('6220ef39e4b01a9f2e1f58dc')"
   ]
  },
  {
   "cell_type": "markdown",
   "metadata": {},
   "source": [
    "### delete files (careful!)"
   ]
  },
  {
   "cell_type": "raw",
   "metadata": {},
   "source": [
    "def delete_file(file_id):\n",
    "    r = requests.delete(clowder_base_uri + '/files/'+ file_id, headers=headers)\n",
    "    print(r.status_code)\n",
    "    print(r.text)"
   ]
  },
  {
   "cell_type": "raw",
   "metadata": {},
   "source": [
    "delete_file('6220ef39e4b01a9f2e1f58dc')"
   ]
  },
  {
   "cell_type": "markdown",
   "metadata": {},
   "source": [
    "# Comprehensive Example"
   ]
  },
  {
   "cell_type": "code",
   "execution_count": null,
   "metadata": {},
   "outputs": [],
   "source": [
    "# list all files in a dataset\n",
    "dataset_id = \"6220ecb7e4b01a9f2e1f58b0\"\n",
    "files = list_files_of_dataset(dataset_id)\n",
    "\n",
    "# extract all of their tags\n",
    "for file in files:\n",
    "    file_id = file['id']\n",
    "    print(list_tags_of_file(file_id))"
   ]
  },
  {
   "cell_type": "code",
   "execution_count": null,
   "metadata": {},
   "outputs": [],
   "source": []
  }
 ],
 "metadata": {
  "kernelspec": {
   "display_name": "Python 3",
   "language": "python",
   "name": "python3"
  },
  "language_info": {
   "codemirror_mode": {
    "name": "ipython",
    "version": 3
   },
   "file_extension": ".py",
   "mimetype": "text/x-python",
   "name": "python",
   "nbconvert_exporter": "python",
   "pygments_lexer": "ipython3",
   "version": "3.8.5"
  }
 },
 "nbformat": 4,
 "nbformat_minor": 2
}
