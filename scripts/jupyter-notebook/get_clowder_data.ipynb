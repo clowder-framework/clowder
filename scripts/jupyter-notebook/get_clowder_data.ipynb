{
  "nbformat": 4,
  "nbformat_minor": 0,
  "metadata": {
    "colab": {
      "provenance": []
    },
    "kernelspec": {
      "name": "python3",
      "display_name": "Python 3"
    },
    "language_info": {
      "name": "python"
    }
  },
  "cells": [
    {
      "cell_type": "code",
      "execution_count": null,
      "metadata": {
        "id": "4NGqRtRJpJYO"
      },
      "outputs": [],
      "source": [
        "import requests\n",
        "import json\n",
        "import os\n",
        "import tempfile\n",
        "import re\n",
        "import pathlib\n",
        "import pandas as pd\n"
      ]
    },
    {
      "cell_type": "markdown",
      "source": [
        "Please put your API key and clowder base url here."
      ],
      "metadata": {
        "id": "YKlxthr4me3_"
      }
    },
    {
      "cell_type": "code",
      "source": [
        "key=\"f40d04bd-05cd-4514-a7c4-1b6f7d65099c\"\n",
        "url=\"https://clowder.ncsa.illinois.edu/clowder\" # url to clowder without the slash and api\""
      ],
      "metadata": {
        "id": "6PMIYV5i1uUQ"
      },
      "execution_count": null,
      "outputs": []
    },
    {
      "cell_type": "markdown",
      "source": [
        "Create some variables we use later"
      ],
      "metadata": {
        "id": "psAgdUyI12ms"
      }
    },
    {
      "cell_type": "code",
      "source": [
        "base_headers = {'X-API-key': key}\n",
        "headers = {**base_headers, 'Content-type': 'application/json',\n",
        "           'accept': 'application/json'}\n",
        "clowder_base_uri = f\"{url}/api\""
      ],
      "metadata": {
        "id": "jhnMe7qAmCDl"
      },
      "execution_count": null,
      "outputs": []
    },
    {
      "cell_type": "markdown",
      "source": [
        "List out all spaces you have access to"
      ],
      "metadata": {
        "id": "AcBEPosEmqI4"
      }
    },
    {
      "cell_type": "code",
      "source": [
        "def list_spaces():\n",
        "    r = requests.get(clowder_base_uri + '/spaces/canEdit', headers=headers)\n",
        "    r.raise_for_status()\n",
        "    return pd.DataFrame.from_dict(r.json())\n",
        "\n",
        "list_spaces()"
      ],
      "metadata": {
        "id": "r8glZflpmIoX",
        "colab": {
          "base_uri": "https://localhost:8080/",
          "height": 80
        },
        "outputId": "a0ec7c51-59a0-48ce-8d27-397adc58d7ec"
      },
      "execution_count": null,
      "outputs": [
        {
          "output_type": "execute_result",
          "data": {
            "text/plain": [
              "                         id name description                       created\n",
              "0  63c8414ce4b083a8c2580991  dt1       trial  Wed Jan 18 18:58:20 UTC 2023"
            ],
            "text/html": [
              "\n",
              "  <div id=\"df-e7137a6c-828a-4eb3-9e08-fd18cd5e9ce0\">\n",
              "    <div class=\"colab-df-container\">\n",
              "      <div>\n",
              "<style scoped>\n",
              "    .dataframe tbody tr th:only-of-type {\n",
              "        vertical-align: middle;\n",
              "    }\n",
              "\n",
              "    .dataframe tbody tr th {\n",
              "        vertical-align: top;\n",
              "    }\n",
              "\n",
              "    .dataframe thead th {\n",
              "        text-align: right;\n",
              "    }\n",
              "</style>\n",
              "<table border=\"1\" class=\"dataframe\">\n",
              "  <thead>\n",
              "    <tr style=\"text-align: right;\">\n",
              "      <th></th>\n",
              "      <th>id</th>\n",
              "      <th>name</th>\n",
              "      <th>description</th>\n",
              "      <th>created</th>\n",
              "    </tr>\n",
              "  </thead>\n",
              "  <tbody>\n",
              "    <tr>\n",
              "      <th>0</th>\n",
              "      <td>63c8414ce4b083a8c2580991</td>\n",
              "      <td>dt1</td>\n",
              "      <td>trial</td>\n",
              "      <td>Wed Jan 18 18:58:20 UTC 2023</td>\n",
              "    </tr>\n",
              "  </tbody>\n",
              "</table>\n",
              "</div>\n",
              "      <button class=\"colab-df-convert\" onclick=\"convertToInteractive('df-e7137a6c-828a-4eb3-9e08-fd18cd5e9ce0')\"\n",
              "              title=\"Convert this dataframe to an interactive table.\"\n",
              "              style=\"display:none;\">\n",
              "        \n",
              "  <svg xmlns=\"http://www.w3.org/2000/svg\" height=\"24px\"viewBox=\"0 0 24 24\"\n",
              "       width=\"24px\">\n",
              "    <path d=\"M0 0h24v24H0V0z\" fill=\"none\"/>\n",
              "    <path d=\"M18.56 5.44l.94 2.06.94-2.06 2.06-.94-2.06-.94-.94-2.06-.94 2.06-2.06.94zm-11 1L8.5 8.5l.94-2.06 2.06-.94-2.06-.94L8.5 2.5l-.94 2.06-2.06.94zm10 10l.94 2.06.94-2.06 2.06-.94-2.06-.94-.94-2.06-.94 2.06-2.06.94z\"/><path d=\"M17.41 7.96l-1.37-1.37c-.4-.4-.92-.59-1.43-.59-.52 0-1.04.2-1.43.59L10.3 9.45l-7.72 7.72c-.78.78-.78 2.05 0 2.83L4 21.41c.39.39.9.59 1.41.59.51 0 1.02-.2 1.41-.59l7.78-7.78 2.81-2.81c.8-.78.8-2.07 0-2.86zM5.41 20L4 18.59l7.72-7.72 1.47 1.35L5.41 20z\"/>\n",
              "  </svg>\n",
              "      </button>\n",
              "      \n",
              "  <style>\n",
              "    .colab-df-container {\n",
              "      display:flex;\n",
              "      flex-wrap:wrap;\n",
              "      gap: 12px;\n",
              "    }\n",
              "\n",
              "    .colab-df-convert {\n",
              "      background-color: #E8F0FE;\n",
              "      border: none;\n",
              "      border-radius: 50%;\n",
              "      cursor: pointer;\n",
              "      display: none;\n",
              "      fill: #1967D2;\n",
              "      height: 32px;\n",
              "      padding: 0 0 0 0;\n",
              "      width: 32px;\n",
              "    }\n",
              "\n",
              "    .colab-df-convert:hover {\n",
              "      background-color: #E2EBFA;\n",
              "      box-shadow: 0px 1px 2px rgba(60, 64, 67, 0.3), 0px 1px 3px 1px rgba(60, 64, 67, 0.15);\n",
              "      fill: #174EA6;\n",
              "    }\n",
              "\n",
              "    [theme=dark] .colab-df-convert {\n",
              "      background-color: #3B4455;\n",
              "      fill: #D2E3FC;\n",
              "    }\n",
              "\n",
              "    [theme=dark] .colab-df-convert:hover {\n",
              "      background-color: #434B5C;\n",
              "      box-shadow: 0px 1px 3px 1px rgba(0, 0, 0, 0.15);\n",
              "      filter: drop-shadow(0px 1px 2px rgba(0, 0, 0, 0.3));\n",
              "      fill: #FFFFFF;\n",
              "    }\n",
              "  </style>\n",
              "\n",
              "      <script>\n",
              "        const buttonEl =\n",
              "          document.querySelector('#df-e7137a6c-828a-4eb3-9e08-fd18cd5e9ce0 button.colab-df-convert');\n",
              "        buttonEl.style.display =\n",
              "          google.colab.kernel.accessAllowed ? 'block' : 'none';\n",
              "\n",
              "        async function convertToInteractive(key) {\n",
              "          const element = document.querySelector('#df-e7137a6c-828a-4eb3-9e08-fd18cd5e9ce0');\n",
              "          const dataTable =\n",
              "            await google.colab.kernel.invokeFunction('convertToInteractive',\n",
              "                                                     [key], {});\n",
              "          if (!dataTable) return;\n",
              "\n",
              "          const docLinkHtml = 'Like what you see? Visit the ' +\n",
              "            '<a target=\"_blank\" href=https://colab.research.google.com/notebooks/data_table.ipynb>data table notebook</a>'\n",
              "            + ' to learn more about interactive tables.';\n",
              "          element.innerHTML = '';\n",
              "          dataTable['output_type'] = 'display_data';\n",
              "          await google.colab.output.renderOutput(dataTable, element);\n",
              "          const docLink = document.createElement('div');\n",
              "          docLink.innerHTML = docLinkHtml;\n",
              "          element.appendChild(docLink);\n",
              "        }\n",
              "      </script>\n",
              "    </div>\n",
              "  </div>\n",
              "  "
            ]
          },
          "metadata": {},
          "execution_count": 10
        }
      ]
    },
    {
      "cell_type": "markdown",
      "source": [
        "List out all datasets"
      ],
      "metadata": {
        "id": "eU9ZiXARmtkJ"
      }
    },
    {
      "cell_type": "code",
      "source": [
        "def list_datasets():\n",
        "    r = requests.get(clowder_base_uri + '/datasets', headers=headers)\n",
        "    r.raise_for_status()\n",
        "    return pd.DataFrame.from_dict(r.json())\n",
        "\n",
        "list_datasets()"
      ],
      "metadata": {
        "id": "LUtE5D9_mLXn",
        "colab": {
          "base_uri": "https://localhost:8080/",
          "height": 111
        },
        "outputId": "9e89c48f-c894-4b92-faf4-15209896b5e0"
      },
      "execution_count": null,
      "outputs": [
        {
          "output_type": "execute_result",
          "data": {
            "text/plain": [
              "                         id       name description  \\\n",
              "0  63c84b8ae4b083a8c2580a41  dataset 2               \n",
              "1  63c84b5be4b083a8c2580a26   dataset1               \n",
              "\n",
              "                        created thumbnail                  authorId  \\\n",
              "0  Wed Jan 18 19:42:02 UTC 2023      None  635bfd4db7c7f35aca68df66   \n",
              "1  Wed Jan 18 19:41:15 UTC 2023      None  635bfd4db7c7f35aca68df66   \n",
              "\n",
              "                       spaces resource_type  \n",
              "0  [63c8414ce4b083a8c2580991]       dataset  \n",
              "1  [63c8414ce4b083a8c2580991]       dataset  "
            ],
            "text/html": [
              "\n",
              "  <div id=\"df-ad2c3030-7811-467d-94a7-fa37a89e33c1\">\n",
              "    <div class=\"colab-df-container\">\n",
              "      <div>\n",
              "<style scoped>\n",
              "    .dataframe tbody tr th:only-of-type {\n",
              "        vertical-align: middle;\n",
              "    }\n",
              "\n",
              "    .dataframe tbody tr th {\n",
              "        vertical-align: top;\n",
              "    }\n",
              "\n",
              "    .dataframe thead th {\n",
              "        text-align: right;\n",
              "    }\n",
              "</style>\n",
              "<table border=\"1\" class=\"dataframe\">\n",
              "  <thead>\n",
              "    <tr style=\"text-align: right;\">\n",
              "      <th></th>\n",
              "      <th>id</th>\n",
              "      <th>name</th>\n",
              "      <th>description</th>\n",
              "      <th>created</th>\n",
              "      <th>thumbnail</th>\n",
              "      <th>authorId</th>\n",
              "      <th>spaces</th>\n",
              "      <th>resource_type</th>\n",
              "    </tr>\n",
              "  </thead>\n",
              "  <tbody>\n",
              "    <tr>\n",
              "      <th>0</th>\n",
              "      <td>63c84b8ae4b083a8c2580a41</td>\n",
              "      <td>dataset 2</td>\n",
              "      <td></td>\n",
              "      <td>Wed Jan 18 19:42:02 UTC 2023</td>\n",
              "      <td>None</td>\n",
              "      <td>635bfd4db7c7f35aca68df66</td>\n",
              "      <td>[63c8414ce4b083a8c2580991]</td>\n",
              "      <td>dataset</td>\n",
              "    </tr>\n",
              "    <tr>\n",
              "      <th>1</th>\n",
              "      <td>63c84b5be4b083a8c2580a26</td>\n",
              "      <td>dataset1</td>\n",
              "      <td></td>\n",
              "      <td>Wed Jan 18 19:41:15 UTC 2023</td>\n",
              "      <td>None</td>\n",
              "      <td>635bfd4db7c7f35aca68df66</td>\n",
              "      <td>[63c8414ce4b083a8c2580991]</td>\n",
              "      <td>dataset</td>\n",
              "    </tr>\n",
              "  </tbody>\n",
              "</table>\n",
              "</div>\n",
              "      <button class=\"colab-df-convert\" onclick=\"convertToInteractive('df-ad2c3030-7811-467d-94a7-fa37a89e33c1')\"\n",
              "              title=\"Convert this dataframe to an interactive table.\"\n",
              "              style=\"display:none;\">\n",
              "        \n",
              "  <svg xmlns=\"http://www.w3.org/2000/svg\" height=\"24px\"viewBox=\"0 0 24 24\"\n",
              "       width=\"24px\">\n",
              "    <path d=\"M0 0h24v24H0V0z\" fill=\"none\"/>\n",
              "    <path d=\"M18.56 5.44l.94 2.06.94-2.06 2.06-.94-2.06-.94-.94-2.06-.94 2.06-2.06.94zm-11 1L8.5 8.5l.94-2.06 2.06-.94-2.06-.94L8.5 2.5l-.94 2.06-2.06.94zm10 10l.94 2.06.94-2.06 2.06-.94-2.06-.94-.94-2.06-.94 2.06-2.06.94z\"/><path d=\"M17.41 7.96l-1.37-1.37c-.4-.4-.92-.59-1.43-.59-.52 0-1.04.2-1.43.59L10.3 9.45l-7.72 7.72c-.78.78-.78 2.05 0 2.83L4 21.41c.39.39.9.59 1.41.59.51 0 1.02-.2 1.41-.59l7.78-7.78 2.81-2.81c.8-.78.8-2.07 0-2.86zM5.41 20L4 18.59l7.72-7.72 1.47 1.35L5.41 20z\"/>\n",
              "  </svg>\n",
              "      </button>\n",
              "      \n",
              "  <style>\n",
              "    .colab-df-container {\n",
              "      display:flex;\n",
              "      flex-wrap:wrap;\n",
              "      gap: 12px;\n",
              "    }\n",
              "\n",
              "    .colab-df-convert {\n",
              "      background-color: #E8F0FE;\n",
              "      border: none;\n",
              "      border-radius: 50%;\n",
              "      cursor: pointer;\n",
              "      display: none;\n",
              "      fill: #1967D2;\n",
              "      height: 32px;\n",
              "      padding: 0 0 0 0;\n",
              "      width: 32px;\n",
              "    }\n",
              "\n",
              "    .colab-df-convert:hover {\n",
              "      background-color: #E2EBFA;\n",
              "      box-shadow: 0px 1px 2px rgba(60, 64, 67, 0.3), 0px 1px 3px 1px rgba(60, 64, 67, 0.15);\n",
              "      fill: #174EA6;\n",
              "    }\n",
              "\n",
              "    [theme=dark] .colab-df-convert {\n",
              "      background-color: #3B4455;\n",
              "      fill: #D2E3FC;\n",
              "    }\n",
              "\n",
              "    [theme=dark] .colab-df-convert:hover {\n",
              "      background-color: #434B5C;\n",
              "      box-shadow: 0px 1px 3px 1px rgba(0, 0, 0, 0.15);\n",
              "      filter: drop-shadow(0px 1px 2px rgba(0, 0, 0, 0.3));\n",
              "      fill: #FFFFFF;\n",
              "    }\n",
              "  </style>\n",
              "\n",
              "      <script>\n",
              "        const buttonEl =\n",
              "          document.querySelector('#df-ad2c3030-7811-467d-94a7-fa37a89e33c1 button.colab-df-convert');\n",
              "        buttonEl.style.display =\n",
              "          google.colab.kernel.accessAllowed ? 'block' : 'none';\n",
              "\n",
              "        async function convertToInteractive(key) {\n",
              "          const element = document.querySelector('#df-ad2c3030-7811-467d-94a7-fa37a89e33c1');\n",
              "          const dataTable =\n",
              "            await google.colab.kernel.invokeFunction('convertToInteractive',\n",
              "                                                     [key], {});\n",
              "          if (!dataTable) return;\n",
              "\n",
              "          const docLinkHtml = 'Like what you see? Visit the ' +\n",
              "            '<a target=\"_blank\" href=https://colab.research.google.com/notebooks/data_table.ipynb>data table notebook</a>'\n",
              "            + ' to learn more about interactive tables.';\n",
              "          element.innerHTML = '';\n",
              "          dataTable['output_type'] = 'display_data';\n",
              "          await google.colab.output.renderOutput(dataTable, element);\n",
              "          const docLink = document.createElement('div');\n",
              "          docLink.innerHTML = docLinkHtml;\n",
              "          element.appendChild(docLink);\n",
              "        }\n",
              "      </script>\n",
              "    </div>\n",
              "  </div>\n",
              "  "
            ]
          },
          "metadata": {},
          "execution_count": 11
        }
      ]
    },
    {
      "cell_type": "markdown",
      "source": [
        "List out all files in a particular dataset.\n",
        "It takes datasetId as parameter."
      ],
      "metadata": {
        "id": "_KLqApxomzA_"
      }
    },
    {
      "cell_type": "code",
      "source": [
        "def list_files_in_dataset(datasetId):\n",
        "    r = requests.get(clowder_base_uri + '/datasets/' + datasetId + '/listAllFiles', headers=headers)\n",
        "    r.raise_for_status()\n",
        "    return pd.DataFrame.from_dict(r.json())\n",
        "\n",
        "list_files_in_dataset('63c84b8ae4b083a8c2580a41')"
      ],
      "metadata": {
        "id": "pg3YGSzomPkP",
        "colab": {
          "base_uri": "https://localhost:8080/",
          "height": 80
        },
        "outputId": "b609b15d-b37f-40ec-886e-c54a9eee8291"
      },
      "execution_count": null,
      "outputs": [
        {
          "output_type": "execute_result",
          "data": {
            "text/plain": [
              "  size                  date-created                        id contentType  \\\n",
              "0   57  Wed Jan 18 19:42:12 UTC 2023  63c84b94e4b083a8c2580a45  text/plain   \n",
              "\n",
              "  filename  \n",
              "0   a2.txt  "
            ],
            "text/html": [
              "\n",
              "  <div id=\"df-2b618081-2393-4e51-8c36-76d0ad770918\">\n",
              "    <div class=\"colab-df-container\">\n",
              "      <div>\n",
              "<style scoped>\n",
              "    .dataframe tbody tr th:only-of-type {\n",
              "        vertical-align: middle;\n",
              "    }\n",
              "\n",
              "    .dataframe tbody tr th {\n",
              "        vertical-align: top;\n",
              "    }\n",
              "\n",
              "    .dataframe thead th {\n",
              "        text-align: right;\n",
              "    }\n",
              "</style>\n",
              "<table border=\"1\" class=\"dataframe\">\n",
              "  <thead>\n",
              "    <tr style=\"text-align: right;\">\n",
              "      <th></th>\n",
              "      <th>size</th>\n",
              "      <th>date-created</th>\n",
              "      <th>id</th>\n",
              "      <th>contentType</th>\n",
              "      <th>filename</th>\n",
              "    </tr>\n",
              "  </thead>\n",
              "  <tbody>\n",
              "    <tr>\n",
              "      <th>0</th>\n",
              "      <td>57</td>\n",
              "      <td>Wed Jan 18 19:42:12 UTC 2023</td>\n",
              "      <td>63c84b94e4b083a8c2580a45</td>\n",
              "      <td>text/plain</td>\n",
              "      <td>a2.txt</td>\n",
              "    </tr>\n",
              "  </tbody>\n",
              "</table>\n",
              "</div>\n",
              "      <button class=\"colab-df-convert\" onclick=\"convertToInteractive('df-2b618081-2393-4e51-8c36-76d0ad770918')\"\n",
              "              title=\"Convert this dataframe to an interactive table.\"\n",
              "              style=\"display:none;\">\n",
              "        \n",
              "  <svg xmlns=\"http://www.w3.org/2000/svg\" height=\"24px\"viewBox=\"0 0 24 24\"\n",
              "       width=\"24px\">\n",
              "    <path d=\"M0 0h24v24H0V0z\" fill=\"none\"/>\n",
              "    <path d=\"M18.56 5.44l.94 2.06.94-2.06 2.06-.94-2.06-.94-.94-2.06-.94 2.06-2.06.94zm-11 1L8.5 8.5l.94-2.06 2.06-.94-2.06-.94L8.5 2.5l-.94 2.06-2.06.94zm10 10l.94 2.06.94-2.06 2.06-.94-2.06-.94-.94-2.06-.94 2.06-2.06.94z\"/><path d=\"M17.41 7.96l-1.37-1.37c-.4-.4-.92-.59-1.43-.59-.52 0-1.04.2-1.43.59L10.3 9.45l-7.72 7.72c-.78.78-.78 2.05 0 2.83L4 21.41c.39.39.9.59 1.41.59.51 0 1.02-.2 1.41-.59l7.78-7.78 2.81-2.81c.8-.78.8-2.07 0-2.86zM5.41 20L4 18.59l7.72-7.72 1.47 1.35L5.41 20z\"/>\n",
              "  </svg>\n",
              "      </button>\n",
              "      \n",
              "  <style>\n",
              "    .colab-df-container {\n",
              "      display:flex;\n",
              "      flex-wrap:wrap;\n",
              "      gap: 12px;\n",
              "    }\n",
              "\n",
              "    .colab-df-convert {\n",
              "      background-color: #E8F0FE;\n",
              "      border: none;\n",
              "      border-radius: 50%;\n",
              "      cursor: pointer;\n",
              "      display: none;\n",
              "      fill: #1967D2;\n",
              "      height: 32px;\n",
              "      padding: 0 0 0 0;\n",
              "      width: 32px;\n",
              "    }\n",
              "\n",
              "    .colab-df-convert:hover {\n",
              "      background-color: #E2EBFA;\n",
              "      box-shadow: 0px 1px 2px rgba(60, 64, 67, 0.3), 0px 1px 3px 1px rgba(60, 64, 67, 0.15);\n",
              "      fill: #174EA6;\n",
              "    }\n",
              "\n",
              "    [theme=dark] .colab-df-convert {\n",
              "      background-color: #3B4455;\n",
              "      fill: #D2E3FC;\n",
              "    }\n",
              "\n",
              "    [theme=dark] .colab-df-convert:hover {\n",
              "      background-color: #434B5C;\n",
              "      box-shadow: 0px 1px 3px 1px rgba(0, 0, 0, 0.15);\n",
              "      filter: drop-shadow(0px 1px 2px rgba(0, 0, 0, 0.3));\n",
              "      fill: #FFFFFF;\n",
              "    }\n",
              "  </style>\n",
              "\n",
              "      <script>\n",
              "        const buttonEl =\n",
              "          document.querySelector('#df-2b618081-2393-4e51-8c36-76d0ad770918 button.colab-df-convert');\n",
              "        buttonEl.style.display =\n",
              "          google.colab.kernel.accessAllowed ? 'block' : 'none';\n",
              "\n",
              "        async function convertToInteractive(key) {\n",
              "          const element = document.querySelector('#df-2b618081-2393-4e51-8c36-76d0ad770918');\n",
              "          const dataTable =\n",
              "            await google.colab.kernel.invokeFunction('convertToInteractive',\n",
              "                                                     [key], {});\n",
              "          if (!dataTable) return;\n",
              "\n",
              "          const docLinkHtml = 'Like what you see? Visit the ' +\n",
              "            '<a target=\"_blank\" href=https://colab.research.google.com/notebooks/data_table.ipynb>data table notebook</a>'\n",
              "            + ' to learn more about interactive tables.';\n",
              "          element.innerHTML = '';\n",
              "          dataTable['output_type'] = 'display_data';\n",
              "          await google.colab.output.renderOutput(dataTable, element);\n",
              "          const docLink = document.createElement('div');\n",
              "          docLink.innerHTML = docLinkHtml;\n",
              "          element.appendChild(docLink);\n",
              "        }\n",
              "      </script>\n",
              "    </div>\n",
              "  </div>\n",
              "  "
            ]
          },
          "metadata": {},
          "execution_count": 12
        }
      ]
    },
    {
      "cell_type": "markdown",
      "source": [
        "Retrives the url to download the contents of a dataset as zip. It takes datasetId as parameter.\n",
        "Returns:\n",
        "\n",
        "*   url - url to download from\n",
        "*   filename - zip file name\n",
        "\n"
      ],
      "metadata": {
        "id": "n0VhgvxvnDMk"
      }
    },
    {
      "cell_type": "code",
      "source": [
        "def get_dataset_download_link(datasetId):\n",
        "    # get dataset name\n",
        "    r = requests.get(f\"{clowder_base_uri}/datasets/{datasetId}\", headers=headers)\n",
        "    r.raise_for_status()\n",
        "    print(r.json())\n",
        "    filename = r.json()[\"name\"] + \".zip\"\n",
        "    url = f\"{clowder_base_uri}/datasets/{datasetId}//download?bagit=false&compression=-1&tracking=true\"\n",
        "    return {\"url\": url, \"filename\": filename}\n",
        "\n",
        "\n",
        "get_dataset_download_link('63c84b8ae4b083a8c2580a41')"
      ],
      "metadata": {
        "id": "FK0CAA2QmQN-",
        "colab": {
          "base_uri": "https://localhost:8080/"
        },
        "outputId": "b87eba94-b5a6-4795-ce32-9ce68ae1be1f"
      },
      "execution_count": null,
      "outputs": [
        {
          "output_type": "stream",
          "name": "stdout",
          "text": [
            "{'id': '63c84b8ae4b083a8c2580a41', 'name': 'dataset 2', 'description': '', 'created': 'Wed Jan 18 19:42:02 UTC 2023', 'thumbnail': None, 'authorId': '635bfd4db7c7f35aca68df66', 'spaces': ['63c8414ce4b083a8c2580991'], 'resource_type': 'dataset'}\n"
          ]
        },
        {
          "output_type": "execute_result",
          "data": {
            "text/plain": [
              "{'url': 'https://clowder.ncsa.illinois.edu/clowder/api/datasets/63c84b8ae4b083a8c2580a41//download?bagit=false&compression=-1&tracking=true',\n",
              " 'filename': 'dataset 2.zip'}"
            ]
          },
          "metadata": {},
          "execution_count": 13
        }
      ]
    },
    {
      "cell_type": "markdown",
      "source": [
        "\n",
        "Retrives the url to download a file. It takes fileId as parameter.\n",
        "\n",
        "Returns:\n",
        "\n",
        "\n",
        "\n",
        "*   url - url to download from\n",
        "\n",
        "*   filename - original filename\n",
        "*   bytes - size of the file\n",
        "\n",
        "\n"
      ],
      "metadata": {
        "id": "RtAoGz32cG66"
      }
    },
    {
      "cell_type": "code",
      "source": [
        "def get_file_download_link(fileId):\n",
        "    # get file name\n",
        "    r = requests.get(f\"{clowder_base_uri}/files/{fileId}/metadata?key={key}\")\n",
        "    r.raise_for_status()\n",
        "    filename = r.json()[\"filename\"]\n",
        "    bloburl = f\"{clowder_base_uri}/files/{fileId}/blob?key={key}\"\n",
        "    return {\"url\": bloburl, \"filename\": filename, \"bytes\": r.json()[\"size\"]}\n",
        "\n",
        "get_file_download_link('63c84b73e4b083a8c2580a2a')"
      ],
      "metadata": {
        "colab": {
          "base_uri": "https://localhost:8080/"
        },
        "id": "bhN5XjIGcF_k",
        "outputId": "9bd74f96-a476-4154-ee10-8522d0058445"
      },
      "execution_count": null,
      "outputs": [
        {
          "output_type": "execute_result",
          "data": {
            "text/plain": [
              "{'url': 'https://clowder.ncsa.illinois.edu/clowder/api/files/63c84b73e4b083a8c2580a2a/blob?key=f40d04bd-05cd-4514-a7c4-1b6f7d65099c',\n",
              " 'filename': 'a1.txt',\n",
              " 'bytes': '55'}"
            ]
          },
          "metadata": {},
          "execution_count": 14
        }
      ]
    },
    {
      "cell_type": "markdown",
      "source": [
        "Download dataset/file to local disk.\n",
        "\n",
        "Paramaets:\n",
        "\n",
        "*   url - url to download from\n",
        "\n",
        "*   path - user can specify path of the file\n",
        "*   chunkSize - user can specify the chunk size which will denote the download speed. the file/dataset will be downloaded in the provided sized chunks\n"
      ],
      "metadata": {
        "id": "0zaHOORXgkYs"
      }
    },
    {
      "cell_type": "code",
      "source": [
        "def download_to_disk(url, inputfilename = None, chunk_size = 10 * 1024):\n",
        "    result = requests.get(url, stream=True)\n",
        "\n",
        "    if inputfilename is None:\n",
        "      (inputfile, inputfilename) = tempfile.mkstemp(suffix='.txt')\n",
        "    else:\n",
        "      inputfile = os.open(inputfilename, os.O_WRONLY | os.O_CREAT, 0o600)\n",
        "      current_dir = os.getcwd()\n",
        "      inputfilename = os.path.join(current_dir, inputfilename)\n",
        "    try:\n",
        "        with os.fdopen(inputfile, \"wb\") as outputfile:\n",
        "            for chunk in result.iter_content(chunk_size):\n",
        "                outputfile.write(chunk)\n",
        "        return inputfilename\n",
        "    except Exception:\n",
        "        os.remove(inputfilename)\n",
        "        raise\n",
        "\n",
        "result = get_file_download_link('63c84b73e4b083a8c2580a2a')\n",
        "download_to_disk(result[\"url\"], result[\"filename\"], 10 * 1024)"
      ],
      "metadata": {
        "id": "ES7vMMXSmSjY",
        "colab": {
          "base_uri": "https://localhost:8080/",
          "height": 35
        },
        "outputId": "665b59e9-fe4c-418f-fcb1-b14be815c7eb"
      },
      "execution_count": null,
      "outputs": [
        {
          "output_type": "execute_result",
          "data": {
            "text/plain": [
              "'/content/a1.txt'"
            ],
            "application/vnd.google.colaboratory.intrinsic+json": {
              "type": "string"
            }
          },
          "metadata": {},
          "execution_count": 17
        }
      ]
    }
  ]
}