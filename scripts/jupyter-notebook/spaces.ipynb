{
 "cells": [
  {
   "cell_type": "code",
   "execution_count": null,
   "metadata": {},
   "outputs": [],
   "source": [
    "import requests\n",
    "import json"
   ]
  },
  {
   "cell_type": "markdown",
   "metadata": {},
   "source": [
    "## Configuration"
   ]
  },
  {
   "cell_type": "code",
   "execution_count": null,
   "metadata": {},
   "outputs": [],
   "source": [
    "base_headers = {'X-API-key': \"your own api keys\"}\n",
    "headers = {**base_headers, 'Content-type': 'application/json', \n",
    "           'accept': 'application/json'}\n",
    "clowder_base_uri = \"https://clowder.ncsa.illinois.edu/clowder/api\""
   ]
  },
  {
   "cell_type": "markdown",
   "metadata": {},
   "source": [
    "## Spaces - Spaces are groupings of collections and datasets."
   ]
  },
  {
   "cell_type": "markdown",
   "metadata": {},
   "source": [
    "### create new spaces"
   ]
  },
  {
   "cell_type": "code",
   "execution_count": null,
   "metadata": {},
   "outputs": [],
   "source": [
    "def create_new_spaces(name, description):\n",
    "    '''\n",
    "    create new spaces with a name and description\n",
    "    '''\n",
    "    payload = json.dumps({'name': name,'description': description})\n",
    "    r = requests.post(clowder_base_uri + '/spaces', data=payload, headers=headers)\n",
    "    \n",
    "    if r.status_code == 200:\n",
    "        return r.json()\n",
    "    else:\n",
    "        return r.text"
   ]
  },
  {
   "cell_type": "code",
   "execution_count": null,
   "metadata": {},
   "outputs": [],
   "source": [
    "create_new_spaces(name=\"new space\", description=\"...\")"
   ]
  },
  {
   "cell_type": "markdown",
   "metadata": {},
   "source": [
    "### list spaces (can edit)"
   ]
  },
  {
   "cell_type": "code",
   "execution_count": null,
   "metadata": {},
   "outputs": [],
   "source": [
    "def list_spaces():\n",
    "    r = requests.get(clowder_base_uri + '/spaces/canEdit', headers=headers)\n",
    "    if r.status_code == 200:\n",
    "        return r.json()\n",
    "    else:\n",
    "        return r.text"
   ]
  },
  {
   "cell_type": "code",
   "execution_count": null,
   "metadata": {},
   "outputs": [],
   "source": [
    "list_spaces()"
   ]
  },
  {
   "cell_type": "markdown",
   "metadata": {},
   "source": [
    "### add user to space"
   ]
  },
  {
   "cell_type": "code",
   "execution_count": null,
   "metadata": {},
   "outputs": [],
   "source": [
    "def add_user_to_space(roles, user_id, space_id):\n",
    "    '''\n",
    "        param: space id, {rolesandlevel:[user id1, user id2, ...]}\n",
    "        The data contained in the request body will be defined by the following String key-value pairs:\n",
    "        rolesandusers -> A map that contains a role level as a key and a comma separated String of user \n",
    "        IDs as the value\n",
    "        rolesandlevl = [\"Admin\",\"Editor\",\"Viewer\"]\n",
    "    '''\n",
    "    \n",
    "    payload = json.dumps({'rolesandusers':{roles:user_id}})\n",
    "    r = requests.post(clowder_base_uri + '/spaces/' + space_id +'/updateUsers',\n",
    "                     data=payload,\n",
    "                     headers=headers)\n",
    "    if r.status_code == 200:\n",
    "        return r.json()\n",
    "    else:\n",
    "        return r.text"
   ]
  },
  {
   "cell_type": "code",
   "execution_count": null,
   "metadata": {},
   "outputs": [],
   "source": [
    "add_user_to_space(roles=\"Editor\", \n",
    "                  user_id=\"576313ce1407b25fe19fc381\", \n",
    "                  space_id='62211bf2e4b01a9f2e1f5b80')"
   ]
  },
  {
   "cell_type": "markdown",
   "metadata": {},
   "source": [
    "### get myself"
   ]
  },
  {
   "cell_type": "code",
   "execution_count": null,
   "metadata": {},
   "outputs": [],
   "source": [
    "def get_me():\n",
    "    '''get the id of myself'''\n",
    "    \n",
    "    r = requests.get(clowder_base_uri + '/me', headers=headers)\n",
    "    if r.status_code == 200:\n",
    "        return r.json()\n",
    "    else:\n",
    "        return r.text"
   ]
  },
  {
   "cell_type": "code",
   "execution_count": null,
   "metadata": {},
   "outputs": [],
   "source": [
    "get_me()"
   ]
  },
  {
   "cell_type": "markdown",
   "metadata": {},
   "source": [
    "### list all users (global key needed)"
   ]
  },
  {
   "cell_type": "code",
   "execution_count": null,
   "metadata": {},
   "outputs": [],
   "source": [
    "def list_all_users():\n",
    "    r = requests.get(clowder_base_uri + '/users', headers=headers)\n",
    "    if r.status_code == 200:\n",
    "        return r.json()\n",
    "    else:\n",
    "        return r.text"
   ]
  },
  {
   "cell_type": "code",
   "execution_count": null,
   "metadata": {
    "scrolled": true
   },
   "outputs": [],
   "source": [
    "list_all_users()"
   ]
  },
  {
   "cell_type": "markdown",
   "metadata": {},
   "source": [
    "### add collections to spaces"
   ]
  },
  {
   "cell_type": "code",
   "execution_count": null,
   "metadata": {},
   "outputs": [],
   "source": [
    "def add_collection_to_space(space_id, collection_id):\n",
    "    '''add a collection to a space'''\n",
    "    r = requests.post(clowder_base_uri + '/spaces/' \n",
    "                      + space_id +'/addCollectionToSpace/' + collection_id,\n",
    "                     headers=base_headers)    \n",
    "    if r.status_code == 200:\n",
    "        return r.json()\n",
    "    else:\n",
    "        return r.text"
   ]
  },
  {
   "cell_type": "code",
   "execution_count": null,
   "metadata": {},
   "outputs": [],
   "source": [
    "add_collection_to_space(space_id='62211bf2e4b01a9f2e1f5b80', collection_id='61b25639e4b01c5f10fa8146')"
   ]
  },
  {
   "cell_type": "markdown",
   "metadata": {},
   "source": [
    "### add datasets to spaces"
   ]
  },
  {
   "cell_type": "code",
   "execution_count": null,
   "metadata": {},
   "outputs": [],
   "source": [
    "def add_dataset_to_space(space_id, dataset_id):\n",
    "    empty_payload = json.dumps({})\n",
    "    r = requests.post(clowder_base_uri + '/spaces/' \n",
    "                      + space_id\n",
    "                      +'/addDatasetToSpace/'\n",
    "                      + dataset_id,\n",
    "                     data=empty_payload,\n",
    "                     headers=base_headers)    \n",
    "    if r.status_code == 200:\n",
    "        return r.json()\n",
    "    else:\n",
    "        return r.text"
   ]
  },
  {
   "cell_type": "code",
   "execution_count": null,
   "metadata": {},
   "outputs": [],
   "source": [
    "add_dataset_to_space(space_id='62211bf2e4b01a9f2e1f5b80', dataset_id='6220ecb7e4b01a9f2e1f58b0')"
   ]
  },
  {
   "cell_type": "code",
   "execution_count": null,
   "metadata": {},
   "outputs": [],
   "source": []
  }
 ],
 "metadata": {
  "kernelspec": {
   "display_name": "Python 3",
   "language": "python",
   "name": "python3"
  },
  "language_info": {
   "codemirror_mode": {
    "name": "ipython",
    "version": 3
   },
   "file_extension": ".py",
   "mimetype": "text/x-python",
   "name": "python",
   "nbconvert_exporter": "python",
   "pygments_lexer": "ipython3",
   "version": "3.8.5"
  }
 },
 "nbformat": 4,
 "nbformat_minor": 2
}
